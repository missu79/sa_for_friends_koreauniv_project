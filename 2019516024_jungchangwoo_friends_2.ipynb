{
  "nbformat": 4,
  "nbformat_minor": 0,
  "metadata": {
    "colab": {
      "name": "2019516024_jungchangwoo_friends_2.ipynb",
      "provenance": [],
      "collapsed_sections": [],
      "include_colab_link": true
    },
    "kernelspec": {
      "name": "python3",
      "display_name": "Python 3"
    },
    "accelerator": "GPU",
    "widgets": {
      "application/vnd.jupyter.widget-state+json": {
        "3c249908c26a4e92be228707397bfdb2": {
          "model_module": "@jupyter-widgets/controls",
          "model_name": "HBoxModel",
          "state": {
            "_view_name": "HBoxView",
            "_dom_classes": [],
            "_model_name": "HBoxModel",
            "_view_module": "@jupyter-widgets/controls",
            "_model_module_version": "1.5.0",
            "_view_count": null,
            "_view_module_version": "1.5.0",
            "box_style": "",
            "layout": "IPY_MODEL_6af6a79f5187433997f9e5f93959ff01",
            "_model_module": "@jupyter-widgets/controls",
            "children": [
              "IPY_MODEL_df76909071c74b579c7259628b26bb11",
              "IPY_MODEL_c958cc783d6641d9a0c51ea23a77a11e"
            ]
          }
        },
        "6af6a79f5187433997f9e5f93959ff01": {
          "model_module": "@jupyter-widgets/base",
          "model_name": "LayoutModel",
          "state": {
            "_view_name": "LayoutView",
            "grid_template_rows": null,
            "right": null,
            "justify_content": null,
            "_view_module": "@jupyter-widgets/base",
            "overflow": null,
            "_model_module_version": "1.2.0",
            "_view_count": null,
            "flex_flow": null,
            "width": null,
            "min_width": null,
            "border": null,
            "align_items": null,
            "bottom": null,
            "_model_module": "@jupyter-widgets/base",
            "top": null,
            "grid_column": null,
            "overflow_y": null,
            "overflow_x": null,
            "grid_auto_flow": null,
            "grid_area": null,
            "grid_template_columns": null,
            "flex": null,
            "_model_name": "LayoutModel",
            "justify_items": null,
            "grid_row": null,
            "max_height": null,
            "align_content": null,
            "visibility": null,
            "align_self": null,
            "height": null,
            "min_height": null,
            "padding": null,
            "grid_auto_rows": null,
            "grid_gap": null,
            "max_width": null,
            "order": null,
            "_view_module_version": "1.2.0",
            "grid_template_areas": null,
            "object_position": null,
            "object_fit": null,
            "grid_auto_columns": null,
            "margin": null,
            "display": null,
            "left": null
          }
        },
        "df76909071c74b579c7259628b26bb11": {
          "model_module": "@jupyter-widgets/controls",
          "model_name": "FloatProgressModel",
          "state": {
            "_view_name": "ProgressView",
            "style": "IPY_MODEL_e6c5f0afc17741c9bc07d049f52d429f",
            "_dom_classes": [],
            "description": "Downloading: 100%",
            "_model_name": "FloatProgressModel",
            "bar_style": "success",
            "max": 898823,
            "_view_module": "@jupyter-widgets/controls",
            "_model_module_version": "1.5.0",
            "value": 898823,
            "_view_count": null,
            "_view_module_version": "1.5.0",
            "orientation": "horizontal",
            "min": 0,
            "description_tooltip": null,
            "_model_module": "@jupyter-widgets/controls",
            "layout": "IPY_MODEL_b2d75a2e174e4a6aaa9adce67fb822df"
          }
        },
        "c958cc783d6641d9a0c51ea23a77a11e": {
          "model_module": "@jupyter-widgets/controls",
          "model_name": "HTMLModel",
          "state": {
            "_view_name": "HTMLView",
            "style": "IPY_MODEL_8cdb039e20f746a388a9e2c08f625953",
            "_dom_classes": [],
            "description": "",
            "_model_name": "HTMLModel",
            "placeholder": "​",
            "_view_module": "@jupyter-widgets/controls",
            "_model_module_version": "1.5.0",
            "value": " 899k/899k [00:01&lt;00:00, 756kB/s]",
            "_view_count": null,
            "_view_module_version": "1.5.0",
            "description_tooltip": null,
            "_model_module": "@jupyter-widgets/controls",
            "layout": "IPY_MODEL_5016ed5998304afcb1e008ee8d613caa"
          }
        },
        "e6c5f0afc17741c9bc07d049f52d429f": {
          "model_module": "@jupyter-widgets/controls",
          "model_name": "ProgressStyleModel",
          "state": {
            "_view_name": "StyleView",
            "_model_name": "ProgressStyleModel",
            "description_width": "initial",
            "_view_module": "@jupyter-widgets/base",
            "_model_module_version": "1.5.0",
            "_view_count": null,
            "_view_module_version": "1.2.0",
            "bar_color": null,
            "_model_module": "@jupyter-widgets/controls"
          }
        },
        "b2d75a2e174e4a6aaa9adce67fb822df": {
          "model_module": "@jupyter-widgets/base",
          "model_name": "LayoutModel",
          "state": {
            "_view_name": "LayoutView",
            "grid_template_rows": null,
            "right": null,
            "justify_content": null,
            "_view_module": "@jupyter-widgets/base",
            "overflow": null,
            "_model_module_version": "1.2.0",
            "_view_count": null,
            "flex_flow": null,
            "width": null,
            "min_width": null,
            "border": null,
            "align_items": null,
            "bottom": null,
            "_model_module": "@jupyter-widgets/base",
            "top": null,
            "grid_column": null,
            "overflow_y": null,
            "overflow_x": null,
            "grid_auto_flow": null,
            "grid_area": null,
            "grid_template_columns": null,
            "flex": null,
            "_model_name": "LayoutModel",
            "justify_items": null,
            "grid_row": null,
            "max_height": null,
            "align_content": null,
            "visibility": null,
            "align_self": null,
            "height": null,
            "min_height": null,
            "padding": null,
            "grid_auto_rows": null,
            "grid_gap": null,
            "max_width": null,
            "order": null,
            "_view_module_version": "1.2.0",
            "grid_template_areas": null,
            "object_position": null,
            "object_fit": null,
            "grid_auto_columns": null,
            "margin": null,
            "display": null,
            "left": null
          }
        },
        "8cdb039e20f746a388a9e2c08f625953": {
          "model_module": "@jupyter-widgets/controls",
          "model_name": "DescriptionStyleModel",
          "state": {
            "_view_name": "StyleView",
            "_model_name": "DescriptionStyleModel",
            "description_width": "",
            "_view_module": "@jupyter-widgets/base",
            "_model_module_version": "1.5.0",
            "_view_count": null,
            "_view_module_version": "1.2.0",
            "_model_module": "@jupyter-widgets/controls"
          }
        },
        "5016ed5998304afcb1e008ee8d613caa": {
          "model_module": "@jupyter-widgets/base",
          "model_name": "LayoutModel",
          "state": {
            "_view_name": "LayoutView",
            "grid_template_rows": null,
            "right": null,
            "justify_content": null,
            "_view_module": "@jupyter-widgets/base",
            "overflow": null,
            "_model_module_version": "1.2.0",
            "_view_count": null,
            "flex_flow": null,
            "width": null,
            "min_width": null,
            "border": null,
            "align_items": null,
            "bottom": null,
            "_model_module": "@jupyter-widgets/base",
            "top": null,
            "grid_column": null,
            "overflow_y": null,
            "overflow_x": null,
            "grid_auto_flow": null,
            "grid_area": null,
            "grid_template_columns": null,
            "flex": null,
            "_model_name": "LayoutModel",
            "justify_items": null,
            "grid_row": null,
            "max_height": null,
            "align_content": null,
            "visibility": null,
            "align_self": null,
            "height": null,
            "min_height": null,
            "padding": null,
            "grid_auto_rows": null,
            "grid_gap": null,
            "max_width": null,
            "order": null,
            "_view_module_version": "1.2.0",
            "grid_template_areas": null,
            "object_position": null,
            "object_fit": null,
            "grid_auto_columns": null,
            "margin": null,
            "display": null,
            "left": null
          }
        },
        "df37a9ee3d1d4ee699aae8ebdc6a3740": {
          "model_module": "@jupyter-widgets/controls",
          "model_name": "HBoxModel",
          "state": {
            "_view_name": "HBoxView",
            "_dom_classes": [],
            "_model_name": "HBoxModel",
            "_view_module": "@jupyter-widgets/controls",
            "_model_module_version": "1.5.0",
            "_view_count": null,
            "_view_module_version": "1.5.0",
            "box_style": "",
            "layout": "IPY_MODEL_d37e3e0dbda14a18a54f8d19efaa126f",
            "_model_module": "@jupyter-widgets/controls",
            "children": [
              "IPY_MODEL_ce00b20b0ce548b088ebcfdddc2ce3cc",
              "IPY_MODEL_f735b2098c4047e4a85dfe03ad5eefd2"
            ]
          }
        },
        "d37e3e0dbda14a18a54f8d19efaa126f": {
          "model_module": "@jupyter-widgets/base",
          "model_name": "LayoutModel",
          "state": {
            "_view_name": "LayoutView",
            "grid_template_rows": null,
            "right": null,
            "justify_content": null,
            "_view_module": "@jupyter-widgets/base",
            "overflow": null,
            "_model_module_version": "1.2.0",
            "_view_count": null,
            "flex_flow": null,
            "width": null,
            "min_width": null,
            "border": null,
            "align_items": null,
            "bottom": null,
            "_model_module": "@jupyter-widgets/base",
            "top": null,
            "grid_column": null,
            "overflow_y": null,
            "overflow_x": null,
            "grid_auto_flow": null,
            "grid_area": null,
            "grid_template_columns": null,
            "flex": null,
            "_model_name": "LayoutModel",
            "justify_items": null,
            "grid_row": null,
            "max_height": null,
            "align_content": null,
            "visibility": null,
            "align_self": null,
            "height": null,
            "min_height": null,
            "padding": null,
            "grid_auto_rows": null,
            "grid_gap": null,
            "max_width": null,
            "order": null,
            "_view_module_version": "1.2.0",
            "grid_template_areas": null,
            "object_position": null,
            "object_fit": null,
            "grid_auto_columns": null,
            "margin": null,
            "display": null,
            "left": null
          }
        },
        "ce00b20b0ce548b088ebcfdddc2ce3cc": {
          "model_module": "@jupyter-widgets/controls",
          "model_name": "FloatProgressModel",
          "state": {
            "_view_name": "ProgressView",
            "style": "IPY_MODEL_497ff2d64b064272b3da593406c99713",
            "_dom_classes": [],
            "description": "Downloading: 100%",
            "_model_name": "FloatProgressModel",
            "bar_style": "success",
            "max": 456318,
            "_view_module": "@jupyter-widgets/controls",
            "_model_module_version": "1.5.0",
            "value": 456318,
            "_view_count": null,
            "_view_module_version": "1.5.0",
            "orientation": "horizontal",
            "min": 0,
            "description_tooltip": null,
            "_model_module": "@jupyter-widgets/controls",
            "layout": "IPY_MODEL_6d976d0426474ce2a21e56ab51bebf04"
          }
        },
        "f735b2098c4047e4a85dfe03ad5eefd2": {
          "model_module": "@jupyter-widgets/controls",
          "model_name": "HTMLModel",
          "state": {
            "_view_name": "HTMLView",
            "style": "IPY_MODEL_6e5286447b264c8e919cfa4645719559",
            "_dom_classes": [],
            "description": "",
            "_model_name": "HTMLModel",
            "placeholder": "​",
            "_view_module": "@jupyter-widgets/controls",
            "_model_module_version": "1.5.0",
            "value": " 456k/456k [00:00&lt;00:00, 1.23MB/s]",
            "_view_count": null,
            "_view_module_version": "1.5.0",
            "description_tooltip": null,
            "_model_module": "@jupyter-widgets/controls",
            "layout": "IPY_MODEL_4851d51634b24ef5ab826936f2cf00ca"
          }
        },
        "497ff2d64b064272b3da593406c99713": {
          "model_module": "@jupyter-widgets/controls",
          "model_name": "ProgressStyleModel",
          "state": {
            "_view_name": "StyleView",
            "_model_name": "ProgressStyleModel",
            "description_width": "initial",
            "_view_module": "@jupyter-widgets/base",
            "_model_module_version": "1.5.0",
            "_view_count": null,
            "_view_module_version": "1.2.0",
            "bar_color": null,
            "_model_module": "@jupyter-widgets/controls"
          }
        },
        "6d976d0426474ce2a21e56ab51bebf04": {
          "model_module": "@jupyter-widgets/base",
          "model_name": "LayoutModel",
          "state": {
            "_view_name": "LayoutView",
            "grid_template_rows": null,
            "right": null,
            "justify_content": null,
            "_view_module": "@jupyter-widgets/base",
            "overflow": null,
            "_model_module_version": "1.2.0",
            "_view_count": null,
            "flex_flow": null,
            "width": null,
            "min_width": null,
            "border": null,
            "align_items": null,
            "bottom": null,
            "_model_module": "@jupyter-widgets/base",
            "top": null,
            "grid_column": null,
            "overflow_y": null,
            "overflow_x": null,
            "grid_auto_flow": null,
            "grid_area": null,
            "grid_template_columns": null,
            "flex": null,
            "_model_name": "LayoutModel",
            "justify_items": null,
            "grid_row": null,
            "max_height": null,
            "align_content": null,
            "visibility": null,
            "align_self": null,
            "height": null,
            "min_height": null,
            "padding": null,
            "grid_auto_rows": null,
            "grid_gap": null,
            "max_width": null,
            "order": null,
            "_view_module_version": "1.2.0",
            "grid_template_areas": null,
            "object_position": null,
            "object_fit": null,
            "grid_auto_columns": null,
            "margin": null,
            "display": null,
            "left": null
          }
        },
        "6e5286447b264c8e919cfa4645719559": {
          "model_module": "@jupyter-widgets/controls",
          "model_name": "DescriptionStyleModel",
          "state": {
            "_view_name": "StyleView",
            "_model_name": "DescriptionStyleModel",
            "description_width": "",
            "_view_module": "@jupyter-widgets/base",
            "_model_module_version": "1.5.0",
            "_view_count": null,
            "_view_module_version": "1.2.0",
            "_model_module": "@jupyter-widgets/controls"
          }
        },
        "4851d51634b24ef5ab826936f2cf00ca": {
          "model_module": "@jupyter-widgets/base",
          "model_name": "LayoutModel",
          "state": {
            "_view_name": "LayoutView",
            "grid_template_rows": null,
            "right": null,
            "justify_content": null,
            "_view_module": "@jupyter-widgets/base",
            "overflow": null,
            "_model_module_version": "1.2.0",
            "_view_count": null,
            "flex_flow": null,
            "width": null,
            "min_width": null,
            "border": null,
            "align_items": null,
            "bottom": null,
            "_model_module": "@jupyter-widgets/base",
            "top": null,
            "grid_column": null,
            "overflow_y": null,
            "overflow_x": null,
            "grid_auto_flow": null,
            "grid_area": null,
            "grid_template_columns": null,
            "flex": null,
            "_model_name": "LayoutModel",
            "justify_items": null,
            "grid_row": null,
            "max_height": null,
            "align_content": null,
            "visibility": null,
            "align_self": null,
            "height": null,
            "min_height": null,
            "padding": null,
            "grid_auto_rows": null,
            "grid_gap": null,
            "max_width": null,
            "order": null,
            "_view_module_version": "1.2.0",
            "grid_template_areas": null,
            "object_position": null,
            "object_fit": null,
            "grid_auto_columns": null,
            "margin": null,
            "display": null,
            "left": null
          }
        },
        "7ec88fcbf9be4dc5897b389c88e9a727": {
          "model_module": "@jupyter-widgets/controls",
          "model_name": "HBoxModel",
          "state": {
            "_view_name": "HBoxView",
            "_dom_classes": [],
            "_model_name": "HBoxModel",
            "_view_module": "@jupyter-widgets/controls",
            "_model_module_version": "1.5.0",
            "_view_count": null,
            "_view_module_version": "1.5.0",
            "box_style": "",
            "layout": "IPY_MODEL_1f94f1104e6d41f293dc8592aa8cd9d7",
            "_model_module": "@jupyter-widgets/controls",
            "children": [
              "IPY_MODEL_f27b02f705424d87b402a17926afee23",
              "IPY_MODEL_60aedc3edefd4b599c08643fab05955e"
            ]
          }
        },
        "1f94f1104e6d41f293dc8592aa8cd9d7": {
          "model_module": "@jupyter-widgets/base",
          "model_name": "LayoutModel",
          "state": {
            "_view_name": "LayoutView",
            "grid_template_rows": null,
            "right": null,
            "justify_content": null,
            "_view_module": "@jupyter-widgets/base",
            "overflow": null,
            "_model_module_version": "1.2.0",
            "_view_count": null,
            "flex_flow": null,
            "width": null,
            "min_width": null,
            "border": null,
            "align_items": null,
            "bottom": null,
            "_model_module": "@jupyter-widgets/base",
            "top": null,
            "grid_column": null,
            "overflow_y": null,
            "overflow_x": null,
            "grid_auto_flow": null,
            "grid_area": null,
            "grid_template_columns": null,
            "flex": null,
            "_model_name": "LayoutModel",
            "justify_items": null,
            "grid_row": null,
            "max_height": null,
            "align_content": null,
            "visibility": null,
            "align_self": null,
            "height": null,
            "min_height": null,
            "padding": null,
            "grid_auto_rows": null,
            "grid_gap": null,
            "max_width": null,
            "order": null,
            "_view_module_version": "1.2.0",
            "grid_template_areas": null,
            "object_position": null,
            "object_fit": null,
            "grid_auto_columns": null,
            "margin": null,
            "display": null,
            "left": null
          }
        },
        "f27b02f705424d87b402a17926afee23": {
          "model_module": "@jupyter-widgets/controls",
          "model_name": "FloatProgressModel",
          "state": {
            "_view_name": "ProgressView",
            "style": "IPY_MODEL_bf8f7adf96744502ba45b1ec0a918e96",
            "_dom_classes": [],
            "description": "Downloading: 100%",
            "_model_name": "FloatProgressModel",
            "bar_style": "success",
            "max": 482,
            "_view_module": "@jupyter-widgets/controls",
            "_model_module_version": "1.5.0",
            "value": 482,
            "_view_count": null,
            "_view_module_version": "1.5.0",
            "orientation": "horizontal",
            "min": 0,
            "description_tooltip": null,
            "_model_module": "@jupyter-widgets/controls",
            "layout": "IPY_MODEL_8f7ef17524014613a14d8b05ca56e923"
          }
        },
        "60aedc3edefd4b599c08643fab05955e": {
          "model_module": "@jupyter-widgets/controls",
          "model_name": "HTMLModel",
          "state": {
            "_view_name": "HTMLView",
            "style": "IPY_MODEL_e22cff48e532443681c6178658f896c9",
            "_dom_classes": [],
            "description": "",
            "_model_name": "HTMLModel",
            "placeholder": "​",
            "_view_module": "@jupyter-widgets/controls",
            "_model_module_version": "1.5.0",
            "value": " 482/482 [00:00&lt;00:00, 2.63kB/s]",
            "_view_count": null,
            "_view_module_version": "1.5.0",
            "description_tooltip": null,
            "_model_module": "@jupyter-widgets/controls",
            "layout": "IPY_MODEL_1d5f1376546d4509a7adeb78d229d256"
          }
        },
        "bf8f7adf96744502ba45b1ec0a918e96": {
          "model_module": "@jupyter-widgets/controls",
          "model_name": "ProgressStyleModel",
          "state": {
            "_view_name": "StyleView",
            "_model_name": "ProgressStyleModel",
            "description_width": "initial",
            "_view_module": "@jupyter-widgets/base",
            "_model_module_version": "1.5.0",
            "_view_count": null,
            "_view_module_version": "1.2.0",
            "bar_color": null,
            "_model_module": "@jupyter-widgets/controls"
          }
        },
        "8f7ef17524014613a14d8b05ca56e923": {
          "model_module": "@jupyter-widgets/base",
          "model_name": "LayoutModel",
          "state": {
            "_view_name": "LayoutView",
            "grid_template_rows": null,
            "right": null,
            "justify_content": null,
            "_view_module": "@jupyter-widgets/base",
            "overflow": null,
            "_model_module_version": "1.2.0",
            "_view_count": null,
            "flex_flow": null,
            "width": null,
            "min_width": null,
            "border": null,
            "align_items": null,
            "bottom": null,
            "_model_module": "@jupyter-widgets/base",
            "top": null,
            "grid_column": null,
            "overflow_y": null,
            "overflow_x": null,
            "grid_auto_flow": null,
            "grid_area": null,
            "grid_template_columns": null,
            "flex": null,
            "_model_name": "LayoutModel",
            "justify_items": null,
            "grid_row": null,
            "max_height": null,
            "align_content": null,
            "visibility": null,
            "align_self": null,
            "height": null,
            "min_height": null,
            "padding": null,
            "grid_auto_rows": null,
            "grid_gap": null,
            "max_width": null,
            "order": null,
            "_view_module_version": "1.2.0",
            "grid_template_areas": null,
            "object_position": null,
            "object_fit": null,
            "grid_auto_columns": null,
            "margin": null,
            "display": null,
            "left": null
          }
        },
        "e22cff48e532443681c6178658f896c9": {
          "model_module": "@jupyter-widgets/controls",
          "model_name": "DescriptionStyleModel",
          "state": {
            "_view_name": "StyleView",
            "_model_name": "DescriptionStyleModel",
            "description_width": "",
            "_view_module": "@jupyter-widgets/base",
            "_model_module_version": "1.5.0",
            "_view_count": null,
            "_view_module_version": "1.2.0",
            "_model_module": "@jupyter-widgets/controls"
          }
        },
        "1d5f1376546d4509a7adeb78d229d256": {
          "model_module": "@jupyter-widgets/base",
          "model_name": "LayoutModel",
          "state": {
            "_view_name": "LayoutView",
            "grid_template_rows": null,
            "right": null,
            "justify_content": null,
            "_view_module": "@jupyter-widgets/base",
            "overflow": null,
            "_model_module_version": "1.2.0",
            "_view_count": null,
            "flex_flow": null,
            "width": null,
            "min_width": null,
            "border": null,
            "align_items": null,
            "bottom": null,
            "_model_module": "@jupyter-widgets/base",
            "top": null,
            "grid_column": null,
            "overflow_y": null,
            "overflow_x": null,
            "grid_auto_flow": null,
            "grid_area": null,
            "grid_template_columns": null,
            "flex": null,
            "_model_name": "LayoutModel",
            "justify_items": null,
            "grid_row": null,
            "max_height": null,
            "align_content": null,
            "visibility": null,
            "align_self": null,
            "height": null,
            "min_height": null,
            "padding": null,
            "grid_auto_rows": null,
            "grid_gap": null,
            "max_width": null,
            "order": null,
            "_view_module_version": "1.2.0",
            "grid_template_areas": null,
            "object_position": null,
            "object_fit": null,
            "grid_auto_columns": null,
            "margin": null,
            "display": null,
            "left": null
          }
        },
        "625cb04b5034461d87014cb68ea20c87": {
          "model_module": "@jupyter-widgets/controls",
          "model_name": "HBoxModel",
          "state": {
            "_view_name": "HBoxView",
            "_dom_classes": [],
            "_model_name": "HBoxModel",
            "_view_module": "@jupyter-widgets/controls",
            "_model_module_version": "1.5.0",
            "_view_count": null,
            "_view_module_version": "1.5.0",
            "box_style": "",
            "layout": "IPY_MODEL_91426a6ed3ae4d5b962d96c64b716129",
            "_model_module": "@jupyter-widgets/controls",
            "children": [
              "IPY_MODEL_6e57307d867c4bc19d5775266e5c6753",
              "IPY_MODEL_93dfbffc5919419bbb157b9b5ca142d9"
            ]
          }
        },
        "91426a6ed3ae4d5b962d96c64b716129": {
          "model_module": "@jupyter-widgets/base",
          "model_name": "LayoutModel",
          "state": {
            "_view_name": "LayoutView",
            "grid_template_rows": null,
            "right": null,
            "justify_content": null,
            "_view_module": "@jupyter-widgets/base",
            "overflow": null,
            "_model_module_version": "1.2.0",
            "_view_count": null,
            "flex_flow": null,
            "width": null,
            "min_width": null,
            "border": null,
            "align_items": null,
            "bottom": null,
            "_model_module": "@jupyter-widgets/base",
            "top": null,
            "grid_column": null,
            "overflow_y": null,
            "overflow_x": null,
            "grid_auto_flow": null,
            "grid_area": null,
            "grid_template_columns": null,
            "flex": null,
            "_model_name": "LayoutModel",
            "justify_items": null,
            "grid_row": null,
            "max_height": null,
            "align_content": null,
            "visibility": null,
            "align_self": null,
            "height": null,
            "min_height": null,
            "padding": null,
            "grid_auto_rows": null,
            "grid_gap": null,
            "max_width": null,
            "order": null,
            "_view_module_version": "1.2.0",
            "grid_template_areas": null,
            "object_position": null,
            "object_fit": null,
            "grid_auto_columns": null,
            "margin": null,
            "display": null,
            "left": null
          }
        },
        "6e57307d867c4bc19d5775266e5c6753": {
          "model_module": "@jupyter-widgets/controls",
          "model_name": "FloatProgressModel",
          "state": {
            "_view_name": "ProgressView",
            "style": "IPY_MODEL_73b803a6fcb846c1952bb75947aeecdc",
            "_dom_classes": [],
            "description": "Downloading: 100%",
            "_model_name": "FloatProgressModel",
            "bar_style": "success",
            "max": 1425941629,
            "_view_module": "@jupyter-widgets/controls",
            "_model_module_version": "1.5.0",
            "value": 1425941629,
            "_view_count": null,
            "_view_module_version": "1.5.0",
            "orientation": "horizontal",
            "min": 0,
            "description_tooltip": null,
            "_model_module": "@jupyter-widgets/controls",
            "layout": "IPY_MODEL_d9f579d1a0e44b25aa56f024d60aa8e1"
          }
        },
        "93dfbffc5919419bbb157b9b5ca142d9": {
          "model_module": "@jupyter-widgets/controls",
          "model_name": "HTMLModel",
          "state": {
            "_view_name": "HTMLView",
            "style": "IPY_MODEL_09a22e73098748abb277749b66c05b22",
            "_dom_classes": [],
            "description": "",
            "_model_name": "HTMLModel",
            "placeholder": "​",
            "_view_module": "@jupyter-widgets/controls",
            "_model_module_version": "1.5.0",
            "value": " 1.43G/1.43G [00:25&lt;00:00, 56.5MB/s]",
            "_view_count": null,
            "_view_module_version": "1.5.0",
            "description_tooltip": null,
            "_model_module": "@jupyter-widgets/controls",
            "layout": "IPY_MODEL_8a65d96b3f2c4f20940180dca2ff16b4"
          }
        },
        "73b803a6fcb846c1952bb75947aeecdc": {
          "model_module": "@jupyter-widgets/controls",
          "model_name": "ProgressStyleModel",
          "state": {
            "_view_name": "StyleView",
            "_model_name": "ProgressStyleModel",
            "description_width": "initial",
            "_view_module": "@jupyter-widgets/base",
            "_model_module_version": "1.5.0",
            "_view_count": null,
            "_view_module_version": "1.2.0",
            "bar_color": null,
            "_model_module": "@jupyter-widgets/controls"
          }
        },
        "d9f579d1a0e44b25aa56f024d60aa8e1": {
          "model_module": "@jupyter-widgets/base",
          "model_name": "LayoutModel",
          "state": {
            "_view_name": "LayoutView",
            "grid_template_rows": null,
            "right": null,
            "justify_content": null,
            "_view_module": "@jupyter-widgets/base",
            "overflow": null,
            "_model_module_version": "1.2.0",
            "_view_count": null,
            "flex_flow": null,
            "width": null,
            "min_width": null,
            "border": null,
            "align_items": null,
            "bottom": null,
            "_model_module": "@jupyter-widgets/base",
            "top": null,
            "grid_column": null,
            "overflow_y": null,
            "overflow_x": null,
            "grid_auto_flow": null,
            "grid_area": null,
            "grid_template_columns": null,
            "flex": null,
            "_model_name": "LayoutModel",
            "justify_items": null,
            "grid_row": null,
            "max_height": null,
            "align_content": null,
            "visibility": null,
            "align_self": null,
            "height": null,
            "min_height": null,
            "padding": null,
            "grid_auto_rows": null,
            "grid_gap": null,
            "max_width": null,
            "order": null,
            "_view_module_version": "1.2.0",
            "grid_template_areas": null,
            "object_position": null,
            "object_fit": null,
            "grid_auto_columns": null,
            "margin": null,
            "display": null,
            "left": null
          }
        },
        "09a22e73098748abb277749b66c05b22": {
          "model_module": "@jupyter-widgets/controls",
          "model_name": "DescriptionStyleModel",
          "state": {
            "_view_name": "StyleView",
            "_model_name": "DescriptionStyleModel",
            "description_width": "",
            "_view_module": "@jupyter-widgets/base",
            "_model_module_version": "1.5.0",
            "_view_count": null,
            "_view_module_version": "1.2.0",
            "_model_module": "@jupyter-widgets/controls"
          }
        },
        "8a65d96b3f2c4f20940180dca2ff16b4": {
          "model_module": "@jupyter-widgets/base",
          "model_name": "LayoutModel",
          "state": {
            "_view_name": "LayoutView",
            "grid_template_rows": null,
            "right": null,
            "justify_content": null,
            "_view_module": "@jupyter-widgets/base",
            "overflow": null,
            "_model_module_version": "1.2.0",
            "_view_count": null,
            "flex_flow": null,
            "width": null,
            "min_width": null,
            "border": null,
            "align_items": null,
            "bottom": null,
            "_model_module": "@jupyter-widgets/base",
            "top": null,
            "grid_column": null,
            "overflow_y": null,
            "overflow_x": null,
            "grid_auto_flow": null,
            "grid_area": null,
            "grid_template_columns": null,
            "flex": null,
            "_model_name": "LayoutModel",
            "justify_items": null,
            "grid_row": null,
            "max_height": null,
            "align_content": null,
            "visibility": null,
            "align_self": null,
            "height": null,
            "min_height": null,
            "padding": null,
            "grid_auto_rows": null,
            "grid_gap": null,
            "max_width": null,
            "order": null,
            "_view_module_version": "1.2.0",
            "grid_template_areas": null,
            "object_position": null,
            "object_fit": null,
            "grid_auto_columns": null,
            "margin": null,
            "display": null,
            "left": null
          }
        }
      }
    }
  },
  "cells": [
    {
      "cell_type": "markdown",
      "metadata": {
        "id": "view-in-github",
        "colab_type": "text"
      },
      "source": [
        "<a href=\"https://colab.research.google.com/github/missu79/sa_for_friends_koreauniv_project/blob/main/2019516024_jungchangwoo_friends_2.ipynb\" target=\"_parent\"><img src=\"https://colab.research.google.com/assets/colab-badge.svg\" alt=\"Open In Colab\"/></a>"
      ]
    },
    {
      "cell_type": "markdown",
      "metadata": {
        "id": "vgKCD8eul4Wq"
      },
      "source": [
        "## **0. 목적**\r\n",
        " - 본 파일은 고려대학교 디지털금융석사과정(계약과정) 중 <br>\r\n",
        "   '디지털금융공학을 위한 자연언어 처리기술 과정'의 기말과제를 위해 만들어진 파일입니다.\r\n",
        "   - 과제명 : Friends 감정분석기\r\n",
        "\r\n",
        "- Dain Lee(ailohc)님의 소스를 전적으로 참고하였습니다.\r\n",
        "  - 출처 : https://github.com/ailohc/friends-classification\r\n",
        "\r\n",
        "- 주석(텍스트 편집)과 일부 코드 편집은 정창우 본인이 직접 하였음을 밝힙니다. <br>\r\n",
        "  한줄한줄 공부하면서 진행했습니다.\r\n",
        "  - missu797979@gmail.com"
      ]
    },
    {
      "cell_type": "markdown",
      "metadata": {
        "id": "wut6O2BKn0-Q"
      },
      "source": [
        "## **1. colab 연결**\r\n",
        " - 구글 드라이브를 colab의 /content/gdrive/ 에 연결\r\n",
        " - 암호 입력(인증)\r\n",
        " \r\n"
      ]
    },
    {
      "cell_type": "code",
      "metadata": {
        "colab": {
          "base_uri": "https://localhost:8080/"
        },
        "id": "HzxkcNSSlsfS",
        "outputId": "ccd13947-47e6-445d-f22f-f76babf05a0d"
      },
      "source": [
        "from google.colab import drive \r\n",
        "drive.mount('/content/gdrive/')"
      ],
      "execution_count": 2,
      "outputs": [
        {
          "output_type": "stream",
          "text": [
            "Mounted at /content/gdrive/\n"
          ],
          "name": "stdout"
        }
      ]
    },
    {
      "cell_type": "markdown",
      "metadata": {
        "id": "frGBQOHEmq_K"
      },
      "source": [
        "## **2. transformer 설치**"
      ]
    },
    {
      "cell_type": "code",
      "metadata": {
        "id": "rEhydb-FffRD",
        "colab": {
          "base_uri": "https://localhost:8080/"
        },
        "outputId": "64d3674e-d857-4768-8eeb-1d1f184b08ef"
      },
      "source": [
        "!pip install transformers --quiet "
      ],
      "execution_count": 4,
      "outputs": [
        {
          "output_type": "stream",
          "text": [
            "\u001b[K     |████████████████████████████████| 1.5MB 9.1MB/s \n",
            "\u001b[K     |████████████████████████████████| 2.9MB 31.9MB/s \n",
            "\u001b[K     |████████████████████████████████| 890kB 55.9MB/s \n",
            "\u001b[?25h  Building wheel for sacremoses (setup.py) ... \u001b[?25l\u001b[?25hdone\n"
          ],
          "name": "stdout"
        }
      ]
    },
    {
      "cell_type": "markdown",
      "metadata": {
        "id": "pEOySm7Gm8M7"
      },
      "source": [
        "## **3. 필요한 라이브러리 가져오기**\r\n",
        " - NN, tokenizer 등 필요한 라이브러리 import"
      ]
    },
    {
      "cell_type": "code",
      "metadata": {
        "id": "PHF1FAfeTkem"
      },
      "source": [
        "import torch\r\n",
        "from transformers import RobertaTokenizer\r\n",
        "from transformers import RobertaForSequenceClassification, AdamW\r\n",
        "from transformers import get_linear_schedule_with_warmup\r\n",
        "from torch.utils.data import TensorDataset, DataLoader, RandomSampler, SequentialSampler\r\n",
        "from keras.preprocessing.sequence import pad_sequences\r\n",
        "from sklearn.model_selection import train_test_split\r\n",
        "\r\n",
        "import json\r\n",
        "import os\r\n",
        "import re\r\n",
        "import pandas as pd\r\n",
        "import numpy as np\r\n",
        "import random\r\n",
        "import time\r\n",
        "import datetime"
      ],
      "execution_count": 5,
      "outputs": []
    },
    {
      "cell_type": "markdown",
      "metadata": {
        "id": "7hFgbfLRrhGa"
      },
      "source": [
        "## **4. 경로 / max_len 지정**\r\n",
        " - train_path는 사용하지 않아 주석처리\r\n",
        " - 테스트 데이터는 케글에서 다운받은 en_data 파일 사용\r\n",
        " - 결과파일 저장명 지정\r\n",
        " - utterance의 max 값은 80으로 지정"
      ]
    },
    {
      "cell_type": "code",
      "metadata": {
        "id": "rVvFBeBG7XQ_"
      },
      "source": [
        "#TRAIN_PATH = \"friends_train.json\"\r\n",
        "TEST_PATH = \"en_data.csv\"\r\n",
        "\r\n",
        "RESULT_PATH = \"jcw\"  \r\n",
        "RESULT_TXT_PATH = RESULT_PATH + \".txt\" \r\n",
        "RESULT_CSV_PATH = RESULT_PATH + \".csv\"\r\n",
        "\r\n",
        "MAX_LEN = 80  "
      ],
      "execution_count": 6,
      "outputs": []
    },
    {
      "cell_type": "markdown",
      "metadata": {
        "id": "3ZOmTlMnriW9"
      },
      "source": [
        "## **5. 데이터 불러오기**\r\n",
        " - 학습데이터의 타입은 딕셔너리형으로 정의\r\n",
        "\r\n",
        " - 일반적으로 train / dev / test를 8:1:1 정도로 분리하는데, <br>\r\n",
        "   <font color = \"BLUE\"> **- Dain Lee님의 필살 스킬 등장** <br>\r\n",
        "     : 데이터양 확보를 위해 train+dev+test 모두 활용 </font> <br>\r\n",
        "     <font color = \"RED\"> **[Tip1]** <br>\r\n",
        " 데이터 양이 충분치 않다고 생각될 때는 가용가능한 모든 데이터를 사용하면 정확도 향상에 도움이 될 수도 있음<br>\r\n",
        " 실제로 train data만을 가지고 돌렸을 때 보다 성능이 좋아짐 </font>\r\n",
        "\r\n",
        "\r\n",
        "- 테스트 데이터 불러오기 (0 row는 인덱스라 스킵)"
      ]
    },
    {
      "cell_type": "code",
      "metadata": {
        "id": "qr0zS12YMc2a"
      },
      "source": [
        "train_dic = {'label':[], 'utterance':[]}\r\n",
        "\r\n",
        "for dtype in ['train', 'dev', 'test']:\r\n",
        "  for dialog in json.loads(open('friends_' + dtype + '.json').read()):\r\n",
        "    for line in dialog:\r\n",
        "      train_dic['label'].append(line['emotion'])\r\n",
        "      train_dic['utterance'].append(line['utterance'])\r\n",
        "\r\n",
        "train = pd.DataFrame(train_dic)\r\n",
        "\r\n",
        "test = pd.read_csv(TEST_PATH, usecols = [4], header=None,  skiprows = [0], names=['utterance'])"
      ],
      "execution_count": 7,
      "outputs": []
    },
    {
      "cell_type": "markdown",
      "metadata": {
        "id": "SuZsGJbzw9j7"
      },
      "source": [
        "## **6. 버트 이용을 위한 전처리**\r\n",
        " - bert 수행하기 위해, 클래스 구분자 '[CLS]'와 문장 구분자 '[SEP]'을 사용\r\n",
        "\r\n",
        " - 감정의 레이블 데이터를 category형으로 지정\r\n",
        " - 매핑 : label을 str -> index(long)으로 변환"
      ]
    },
    {
      "cell_type": "code",
      "metadata": {
        "id": "oYYcbhlVfL8I"
      },
      "source": [
        "sentences = train['utterance'] \r\n",
        "sentences = [\"[CLS] \" + str(sentence) + \" [SEP]\" for sentence in sentences]\r\n",
        "\r\n",
        "train['label'] = train['label'].astype('category')\r\n",
        "\r\n",
        "mapping = dict( enumerate(train['label'].cat.categories ) )\r\n",
        "\r\n",
        "train['label'] = train['label'].cat.codes\r\n",
        "labels = train['label'].values\r\n",
        "labels = labels.astype('long')"
      ],
      "execution_count": 8,
      "outputs": []
    },
    {
      "cell_type": "markdown",
      "metadata": {
        "id": "lLe6CeJMyZl8"
      },
      "source": [
        "## **7. 데이터 전처리**\r\n",
        " - RoBERTa 모델 활용하여 토큰화 진행 <br>\r\n",
        "   - Large 모델 활용\r\n",
        "   - 대소문자 구분 <br>\r\n",
        "  <font color = \"RED\"> **[Tip2]** <br>\r\n",
        " Large 모델이 Base 모델보다 시간은 더 걸리지만, 정확도 향상에 도움이 됨<br>\r\n",
        " 마찬가지로 대소문자 구분하지 않는 것(소문자화 = true)보다 구분하는 것(flase)가 약간이나마 향상 됨</font> \r\n",
        "\r\n",
        "- [RoBERTa] 에 대한 설명은 하기 링크 참조\r\n",
        "  - https://brunch.co.kr/@choseunghyek/7\r\n",
        "  - https://blog.naver.com/beneyh3000/222074120459\r\n",
        "\r\n",
        "- 문장을 4번에서 지정했던 Max_len = 80 길이에 맞게 자르고, 모자란 부분은 0으로 채움\r\n",
        "\r\n",
        "- Attnetion_mask를 패딩이 아니면 1, 패딩이면 0으로 설정함\r\n",
        "\r\n",
        "- train_input 중 0.1(10%)를 랜덤으로 validation 데이터로 사용 <br>\r\n",
        "  train_mask 또한 마찬가지\r\n",
        "\r\n",
        "- 데이터를 tensor로 변환함\r\n",
        "- 배치사이즈를 지정함 <br>\r\n",
        "<font color = \"RED\"> **[Tip3]** <br>\r\n",
        " 배치사이즈를 크게 하면 속도향상에는 도움이 되나, 메모리가 좋아야 가능함.\r\n",
        " 256으로 돌려보니, runtime error가 발생하였음. 안전하게 32로 세팅</font>\r\n",
        "\r\n",
        "- batch로 데이터셋을 가져오기 위해, 데이터셋을 생성함\r\n",
        "\r\n",
        "- 상기와 유사하게 test-data에 대한 전처리도 진행\r\n",
        "\r\n",
        "- GPU 사용\r\n",
        "\r\n"
      ]
    },
    {
      "cell_type": "code",
      "metadata": {
        "id": "WRTpOBJxxoBM",
        "colab": {
          "base_uri": "https://localhost:8080/",
          "height": 116,
          "referenced_widgets": [
            "3c249908c26a4e92be228707397bfdb2",
            "6af6a79f5187433997f9e5f93959ff01",
            "df76909071c74b579c7259628b26bb11",
            "c958cc783d6641d9a0c51ea23a77a11e",
            "e6c5f0afc17741c9bc07d049f52d429f",
            "b2d75a2e174e4a6aaa9adce67fb822df",
            "8cdb039e20f746a388a9e2c08f625953",
            "5016ed5998304afcb1e008ee8d613caa",
            "df37a9ee3d1d4ee699aae8ebdc6a3740",
            "d37e3e0dbda14a18a54f8d19efaa126f",
            "ce00b20b0ce548b088ebcfdddc2ce3cc",
            "f735b2098c4047e4a85dfe03ad5eefd2",
            "497ff2d64b064272b3da593406c99713",
            "6d976d0426474ce2a21e56ab51bebf04",
            "6e5286447b264c8e919cfa4645719559",
            "4851d51634b24ef5ab826936f2cf00ca"
          ]
        },
        "outputId": "744f0632-97b3-4897-8407-99327a917c24"
      },
      "source": [
        "tokenizer = RobertaTokenizer.from_pretrained('roberta-large', do_lower_case=False)\r\n",
        "tokenized_texts = [tokenizer.tokenize(sent) for sent in sentences]\r\n",
        "\r\n",
        "input_ids = [tokenizer.convert_tokens_to_ids(x) for x in tokenized_texts]\r\n",
        "input_ids = pad_sequences(input_ids, maxlen=MAX_LEN, dtype=\"long\", truncating=\"post\", padding=\"post\")\r\n",
        "\r\n",
        "attention_masks = []\r\n",
        "for seq in input_ids:\r\n",
        "    seq_mask = [float(i>0) for i in seq]\r\n",
        "    attention_masks.append(seq_mask)\r\n",
        "\r\n",
        "train_inputs, validation_inputs, train_labels, validation_labels = train_test_split(input_ids,\r\n",
        "                                                                                    labels, \r\n",
        "                                                                                    random_state=2018, \r\n",
        "                                                                                    test_size=0.1)\r\n",
        "train_masks, validation_masks, _, _ = train_test_split(attention_masks, \r\n",
        "                                                       input_ids,\r\n",
        "                                                       random_state=2018, \r\n",
        "                                                       test_size=0.1)\r\n",
        "\r\n",
        "train_inputs = torch.tensor(train_inputs)\r\n",
        "train_labels = torch.tensor(train_labels)\r\n",
        "train_masks = torch.tensor(train_masks)\r\n",
        "validation_inputs = torch.tensor(validation_inputs)\r\n",
        "validation_labels = torch.tensor(validation_labels)\r\n",
        "validation_masks = torch.tensor(validation_masks)\t\r\n",
        "\r\n",
        "batch_size = 32\r\n",
        "\r\n",
        "train_data = TensorDataset(train_inputs, train_masks, train_labels)\r\n",
        "train_sampler = RandomSampler(train_data)\r\n",
        "train_dataloader = DataLoader(train_data, sampler=train_sampler, batch_size=batch_size)\r\n",
        "\r\n",
        "validation_data = TensorDataset(validation_inputs, validation_masks, validation_labels)\r\n",
        "validation_sampler = SequentialSampler(validation_data)\r\n",
        "validation_dataloader = DataLoader(validation_data, sampler=validation_sampler, batch_size=batch_size)\r\n",
        "\r\n",
        "test_sentences = test['utterance']\r\n",
        "test_sentences = [\"[CLS] \" + str(sentence) + \" [SEP]\" for sentence in test_sentences]\r\n",
        "\r\n",
        "tokenizer = RobertaTokenizer.from_pretrained('roberta-large', do_lower_case=False)\r\n",
        "tokenized_texts = [tokenizer.tokenize(sent) for sent in test_sentences]\r\n",
        "\r\n",
        "input_ids = [tokenizer.convert_tokens_to_ids(x) for x in tokenized_texts]\r\n",
        "input_ids = pad_sequences(input_ids, maxlen=MAX_LEN, dtype=\"long\", truncating=\"post\", padding=\"post\")\r\n",
        "\r\n",
        "attention_masks = []\r\n",
        "for seq in input_ids:\r\n",
        "    seq_mask = [float(i>0) for i in seq]\r\n",
        "    attention_masks.append(seq_mask)\r\n",
        "\r\n",
        "test_inputs = torch.tensor(input_ids)\r\n",
        "test_masks = torch.tensor(attention_masks)\r\n",
        "\r\n",
        "batch_size = 32\r\n",
        "\r\n",
        "test_data = TensorDataset(test_inputs, test_masks)\r\n",
        "test_dataloader = DataLoader(test_data, batch_size=batch_size, shuffle=None)\r\n",
        "\r\n",
        "if torch.cuda.is_available():    \r\n",
        "    device = torch.device(\"cuda\")\r\n",
        "else:\r\n",
        "    device = torch.device(\"cpu\")"
      ],
      "execution_count": 9,
      "outputs": [
        {
          "output_type": "display_data",
          "data": {
            "application/vnd.jupyter.widget-view+json": {
              "model_id": "3c249908c26a4e92be228707397bfdb2",
              "version_minor": 0,
              "version_major": 2
            },
            "text/plain": [
              "HBox(children=(FloatProgress(value=0.0, description='Downloading', max=898823.0, style=ProgressStyle(descripti…"
            ]
          },
          "metadata": {
            "tags": []
          }
        },
        {
          "output_type": "stream",
          "text": [
            "\n"
          ],
          "name": "stdout"
        },
        {
          "output_type": "display_data",
          "data": {
            "application/vnd.jupyter.widget-view+json": {
              "model_id": "df37a9ee3d1d4ee699aae8ebdc6a3740",
              "version_minor": 0,
              "version_major": 2
            },
            "text/plain": [
              "HBox(children=(FloatProgress(value=0.0, description='Downloading', max=456318.0, style=ProgressStyle(descripti…"
            ]
          },
          "metadata": {
            "tags": []
          }
        },
        {
          "output_type": "stream",
          "text": [
            "\n"
          ],
          "name": "stdout"
        }
      ]
    },
    {
      "cell_type": "markdown",
      "metadata": {
        "id": "-gJkFGfI2BRj"
      },
      "source": [
        "## **8. 모델링**\r\n",
        " - RoBERTa 모델 활용하여 진행, 감정은 8가지<br>\r\n",
        "  <font color = \"RED\"> **[Tip4]** <br>\r\n",
        " 최초에는 BERT-Large로 진행해봤으나, 정확도 향상에 한계가 존재 <br>\r\n",
        " RoBERTa 모델을 발견하고 돌리니, 정확도 크게 향상됨</font> \r\n",
        "\r\n",
        " - optimizer로는 AdamW로 설정\r\n",
        " - [optimizer] 에 대한 설명은 하기 링크 참조\r\n",
        "  - https://hiddenbeginner.github.io/deeplearning/2019/09/22/optimization_algorithms_in_deep_learning.html\r\n",
        "  - Optimizer발전과정(그림 출처 : https://gomguard.tistory.com/187)\r\n",
        "![Optimizer발전과정.png](data:image/png;base64,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)\r\n",
        "\r\n",
        "\r\n",
        "- 러닝레이트 설정하고, 0으로 나누는 것을 방지하기 위해 입실론 값 적용\r\n",
        "\r\n",
        "- 에폭 횟수 설정\r\n",
        "\r\n",
        "- 총 스텝은 배치반복 횟수 X 에폭\r\n",
        "\r\n",
        "- 스케쥴러 생성(러닝레이트를 조금씩 변화시킴)\r\n",
        "\r\n",
        "<font color = \"RED\"> **[Tip5]** <br>\r\n",
        " learning rate와 epoch을 조정하여 여러번 돌려볼 필요가 있음</font> \r\n",
        "\r\n",
        "- 정확도 계산 함수를 정의\r\n",
        "  - 보통 accuracy, recall, f1 score 등을 사용하나, 여기서는 산술평균을 사용했음\r\n",
        "\r\n",
        "- 소요시간 측정을 위한 함수를 정의\r\n",
        "\r\n",
        "- 재현을 위해 랜덤시드 고정\r\n",
        "\r\n",
        "- 그래디언트 초기화"
      ]
    },
    {
      "cell_type": "code",
      "metadata": {
        "id": "gwcUdEpaAMXv",
        "colab": {
          "base_uri": "https://localhost:8080/",
          "height": 224,
          "referenced_widgets": [
            "7ec88fcbf9be4dc5897b389c88e9a727",
            "1f94f1104e6d41f293dc8592aa8cd9d7",
            "f27b02f705424d87b402a17926afee23",
            "60aedc3edefd4b599c08643fab05955e",
            "bf8f7adf96744502ba45b1ec0a918e96",
            "8f7ef17524014613a14d8b05ca56e923",
            "e22cff48e532443681c6178658f896c9",
            "1d5f1376546d4509a7adeb78d229d256",
            "625cb04b5034461d87014cb68ea20c87",
            "91426a6ed3ae4d5b962d96c64b716129",
            "6e57307d867c4bc19d5775266e5c6753",
            "93dfbffc5919419bbb157b9b5ca142d9",
            "73b803a6fcb846c1952bb75947aeecdc",
            "d9f579d1a0e44b25aa56f024d60aa8e1",
            "09a22e73098748abb277749b66c05b22",
            "8a65d96b3f2c4f20940180dca2ff16b4"
          ]
        },
        "outputId": "f0bdfc5a-9b40-4ca1-8267-e0004c7398ac"
      },
      "source": [
        "model = RobertaForSequenceClassification.from_pretrained(\"roberta-large\", num_labels=8)\r\n",
        "model.cuda()\r\n",
        "\r\n",
        "optimizer = AdamW(model.parameters(),\r\n",
        "                  lr = 3e-6,\r\n",
        "                  eps = 1e-8\r\n",
        "                )\r\n",
        "epochs = 2\r\n",
        "\r\n",
        "total_steps = len(train_dataloader) * epochs\r\n",
        "\r\n",
        "scheduler = get_linear_schedule_with_warmup(optimizer, \r\n",
        "                                            num_warmup_steps = 0,\r\n",
        "                                            num_training_steps = total_steps)\r\n",
        "\r\n",
        "def flat_accuracy(preds, labels):\r\n",
        "    pred_flat = np.argmax(preds, axis=1).flatten()\r\n",
        "    labels_flat = labels.flatten()\r\n",
        "    return np.sum(pred_flat == labels_flat) / len(labels_flat)\r\n",
        "\r\n",
        "def format_time(elapsed):\r\n",
        "    elapsed_rounded = int(round((elapsed)))\r\n",
        "    return str(datetime.timedelta(seconds=elapsed_rounded))\r\n",
        "\r\n",
        "seed_val = 27\r\n",
        "random.seed(seed_val)\r\n",
        "np.random.seed(seed_val)\r\n",
        "torch.manual_seed(seed_val)\r\n",
        "torch.cuda.manual_seed_all(seed_val)\r\n",
        "\r\n",
        "model.zero_grad()"
      ],
      "execution_count": 10,
      "outputs": [
        {
          "output_type": "display_data",
          "data": {
            "application/vnd.jupyter.widget-view+json": {
              "model_id": "7ec88fcbf9be4dc5897b389c88e9a727",
              "version_minor": 0,
              "version_major": 2
            },
            "text/plain": [
              "HBox(children=(FloatProgress(value=0.0, description='Downloading', max=482.0, style=ProgressStyle(description_…"
            ]
          },
          "metadata": {
            "tags": []
          }
        },
        {
          "output_type": "stream",
          "text": [
            "\n"
          ],
          "name": "stdout"
        },
        {
          "output_type": "display_data",
          "data": {
            "application/vnd.jupyter.widget-view+json": {
              "model_id": "625cb04b5034461d87014cb68ea20c87",
              "version_minor": 0,
              "version_major": 2
            },
            "text/plain": [
              "HBox(children=(FloatProgress(value=0.0, description='Downloading', max=1425941629.0, style=ProgressStyle(descr…"
            ]
          },
          "metadata": {
            "tags": []
          }
        },
        {
          "output_type": "stream",
          "text": [
            "\n"
          ],
          "name": "stdout"
        },
        {
          "output_type": "stream",
          "text": [
            "Some weights of the model checkpoint at roberta-large were not used when initializing RobertaForSequenceClassification: ['lm_head.bias', 'lm_head.dense.weight', 'lm_head.dense.bias', 'lm_head.layer_norm.weight', 'lm_head.layer_norm.bias', 'lm_head.decoder.weight', 'roberta.pooler.dense.weight', 'roberta.pooler.dense.bias']\n",
            "- This IS expected if you are initializing RobertaForSequenceClassification from the checkpoint of a model trained on another task or with another architecture (e.g. initializing a BertForSequenceClassification model from a BertForPreTraining model).\n",
            "- This IS NOT expected if you are initializing RobertaForSequenceClassification from the checkpoint of a model that you expect to be exactly identical (initializing a BertForSequenceClassification model from a BertForSequenceClassification model).\n",
            "Some weights of RobertaForSequenceClassification were not initialized from the model checkpoint at roberta-large and are newly initialized: ['classifier.dense.weight', 'classifier.dense.bias', 'classifier.out_proj.weight', 'classifier.out_proj.bias']\n",
            "You should probably TRAIN this model on a down-stream task to be able to use it for predictions and inference.\n"
          ],
          "name": "stderr"
        }
      ]
    },
    {
      "cell_type": "markdown",
      "metadata": {
        "id": "W4pCpolh5iLB"
      },
      "source": [
        "## **9. 학습 및 검증**\r\n",
        "- 에폭만큼 학습 수행\r\n",
        "\r\n",
        "#ㅁ training#\r\n",
        "  - 트레인 모델\r\n",
        "  - 데이터로더에서 batch만큼 반복하여 가져옴\r\n",
        "  - batch를 GPU에 넣음\r\n",
        "  - batch에서 데이터 추출\r\n",
        "  - forward 수행\r\n",
        "  - loss 및 총 loss 계산\r\n",
        "  - backward 수행\r\n",
        "  - gradient 클리핑\r\n",
        "  - 가중치 parameter 업데이트\r\n",
        "  - 스케쥴러로 러닝레이트 감소\r\n",
        "  - gradient 초기화\r\n",
        "  - 평균 loss 구하기\r\n",
        "\r\n",
        "#ㅁ validation#\r\n",
        "  - 평가 모델\r\n",
        "  - 데이터로더에서 batch만큼 반복하여 가져옴\r\n",
        "  - batch를 GPU에 넣음\r\n",
        "  - batch에서 데이터 추출\r\n",
        "  - gradient 계산 안함\r\n",
        "  - loss 구하기\r\n",
        "  - cpu로 데이터 이동\r\n",
        "  - 출력 로짓과 라벨을 비교하여 정확도 계산"
      ]
    },
    {
      "cell_type": "code",
      "metadata": {
        "id": "xnyWtVeMdgxz",
        "colab": {
          "base_uri": "https://localhost:8080/"
        },
        "outputId": "ca3dced5-72fe-4866-fbee-528c99b23336"
      },
      "source": [
        "for epoch_i in range(0, epochs):\r\n",
        "    \r\n",
        "    # ========================================\r\n",
        "    #               Training\r\n",
        "    # ========================================\r\n",
        "    \r\n",
        "    print(\"\")\r\n",
        "    print('======== Epoch {:} / {:} ========'.format(epoch_i + 1, epochs))\r\n",
        "    print('Training...')\r\n",
        "\r\n",
        "    t0 = time.time()\r\n",
        "\r\n",
        "    total_loss = 0\r\n",
        "\r\n",
        "    model.train()\r\n",
        " \r\n",
        "    for step, batch in enumerate(train_dataloader):\r\n",
        "        batch = tuple(t.to(device) for t in batch)  \r\n",
        "        b_input_ids, b_input_mask, b_labels = batch \r\n",
        "\r\n",
        "        outputs = model(b_input_ids, \r\n",
        "                        token_type_ids=None, \r\n",
        "                        attention_mask=b_input_mask, \r\n",
        "                        labels=b_labels)\r\n",
        "        \r\n",
        "        loss = outputs[0] \r\n",
        "        total_loss += loss.item() \r\n",
        "        loss.backward()\r\n",
        "        torch.nn.utils.clip_grad_norm_(model.parameters(), 1.0) \r\n",
        "        optimizer.step() \r\n",
        "        scheduler.step() \r\n",
        "        model.zero_grad() \r\n",
        "  \r\n",
        "    avg_train_loss = total_loss / len(train_dataloader)            \r\n",
        "\r\n",
        "    print(\"\")\r\n",
        "    print(\"  Average training loss: {0:.2f}\".format(avg_train_loss))\r\n",
        "    print(\"  Training epcoh took: {:}\".format(format_time(time.time() - t0)))\r\n",
        "        \r\n",
        "    # ========================================\r\n",
        "    #               Validation\r\n",
        "    # ========================================\r\n",
        "\r\n",
        "    print(\"\")\r\n",
        "    print(\"Running Validation...\")\r\n",
        "\r\n",
        "    t0 = time.time()\r\n",
        "\r\n",
        "    model.eval()\r\n",
        "\r\n",
        "    eval_loss, eval_accuracy = 0, 0\r\n",
        "    nb_eval_steps, nb_eval_examples = 0, 0\r\n",
        "\r\n",
        "    for batch in validation_dataloader:\r\n",
        "        batch = tuple(t.to(device) for t in batch) \r\n",
        "        b_input_ids, b_input_mask, b_labels = batch \r\n",
        "        \r\n",
        "        with torch.no_grad():  \r\n",
        "   \r\n",
        "            outputs = model(b_input_ids, \r\n",
        "                            token_type_ids=None, \r\n",
        "                            attention_mask=b_input_mask)\r\n",
        "\r\n",
        "        logits = outputs[0]\r\n",
        "        \r\n",
        "        logits = logits.detach().cpu().numpy()\r\n",
        "        label_ids = b_labels.to('cpu').numpy()\r\n",
        "\r\n",
        "        tmp_eval_accuracy = flat_accuracy(logits, label_ids)\r\n",
        "        pred_label = np.argmax(logits, axis=1).flatten()\r\n",
        "        eval_accuracy += tmp_eval_accuracy\r\n",
        "        nb_eval_steps += 1\r\n",
        "\r\n",
        "    print(\"  Accuracy: {0:.4f}\".format(eval_accuracy/nb_eval_steps))\r\n",
        "    print(\"  Validation took: {:}\".format(format_time(time.time() - t0)))\r\n",
        "\r\n",
        "print(\"\")\r\n",
        "print(\"Training complete!\")\r\n"
      ],
      "execution_count": 11,
      "outputs": [
        {
          "output_type": "stream",
          "text": [
            "\n",
            "======== Epoch 1 / 2 ========\n",
            "Training...\n",
            "\n",
            "  Average training loss: 1.47\n",
            "  Training epcoh took: 0:09:42\n",
            "\n",
            "Running Validation...\n",
            "  Accuracy: 0.6102\n",
            "  Validation took: 0:00:22\n",
            "\n",
            "======== Epoch 2 / 2 ========\n",
            "Training...\n",
            "\n",
            "  Average training loss: 1.16\n",
            "  Training epcoh took: 0:09:46\n",
            "\n",
            "Running Validation...\n",
            "  Accuracy: 0.6285\n",
            "  Validation took: 0:00:22\n",
            "\n",
            "Training complete!\n"
          ],
          "name": "stdout"
        }
      ]
    },
    {
      "cell_type": "markdown",
      "metadata": {
        "id": "nJxuTOxZ52bp"
      },
      "source": [
        "## **10. 최종 제출데이타에 대한 예측 수행**\r\n",
        "\r\n",
        "- 결과를 쓸 파일 열기\r\n",
        "  - batch를 GPU에 넣음\r\n",
        "  - batch에서 데이터 추출\r\n",
        "  - gradient 업데이트 하지 않음\r\n",
        "  - 결과예측\r\n",
        "  - 감정평가\r\n",
        "\r\n",
        "- csv 파일 만들어 dataframe에있는 데이터를 기록\r\n",
        "- 최종 제출 파일 생성"
      ]
    },
    {
      "cell_type": "code",
      "metadata": {
        "id": "JPDUeqyydDsK"
      },
      "source": [
        "t0 = time.time()\r\n",
        "\r\n",
        "model.eval()\r\n",
        "\r\n",
        "with open(RESULT_TXT_PATH, \"a\") as f:\r\n",
        "  for step, batch in enumerate(test_dataloader):\r\n",
        "    batch = tuple(t.to(device) for t in batch) \r\n",
        "    b_input_ids, b_input_mask = batch \r\n",
        "\r\n",
        "    with torch.no_grad():     \r\n",
        "        outputs = model(b_input_ids, \r\n",
        "                        token_type_ids=None, \r\n",
        "                        attention_mask=b_input_mask)\r\n",
        "    \r\n",
        "    logits = outputs[0]\r\n",
        "    logits = logits.detach().cpu().numpy()\r\n",
        "    \r\n",
        "    for logit in logits:\r\n",
        "      label = np.argmax(logit)\r\n",
        "      f.write(mapping[label] + '\\n')\r\n",
        "\r\n",
        "result = pd.read_csv(RESULT_TXT_PATH, delimiter='\\t', names=['Expected'])\r\n",
        "result.index.name='Id'\r\n",
        "result.to_csv(RESULT_CSV_PATH, index=True, header=True)"
      ],
      "execution_count": 13,
      "outputs": []
    }
  ]
}